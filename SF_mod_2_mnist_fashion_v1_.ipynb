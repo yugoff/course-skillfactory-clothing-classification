{
 "cells": [
  {
   "cell_type": "markdown",
   "metadata": {
    "id": "frHiDRbv-JnK"
   },
   "source": [
    "Для воспроизводимости кода установим определенную версию tensorflow и keras"
   ]
  },
  {
   "cell_type": "code",
   "execution_count": null,
   "metadata": {
    "id": "sfrrvxH_-Gdg"
   },
   "outputs": [],
   "source": [
    "!pip install -q tensorflow==2.1"
   ]
  },
  {
   "cell_type": "code",
   "execution_count": null,
   "metadata": {
    "id": "NPDfQS-kNO1v"
   },
   "outputs": [],
   "source": [
    "import tensorflow as tf\n",
    "from tensorflow import keras\n",
    "from keras.layers import Dense\n",
    "from keras.models import Sequential\n",
    "from keras.backend import clear_session\n",
    "import numpy as np\n",
    "import pandas as pd\n",
    "import sklearn\n",
    "from sklearn.metrics import accuracy_score\n",
    "import matplotlib.pyplot as plt"
   ]
  },
  {
   "cell_type": "code",
   "execution_count": null,
   "metadata": {
    "colab": {
     "base_uri": "https://localhost:8080/",
     "height": 51
    },
    "id": "B4QHV0JB9r9D",
    "outputId": "279c5dd3-dd67-4b6e-f8e6-80f23762d638"
   },
   "outputs": [],
   "source": [
    "print(\"We're using TF\", tf.__version__)\n",
    "print(\"We are using Keras\", keras.__version__)"
   ]
  },
  {
   "cell_type": "code",
   "execution_count": null,
   "metadata": {
    "colab": {
     "base_uri": "https://localhost:8080/",
     "height": 34
    },
    "id": "Xfoji_vbLUiA",
    "outputId": "2d5835e3-9875-4c5e-b0d2-ce55e004ce28"
   },
   "outputs": [],
   "source": [
    "# Проверяем что у нас работает GPU\n",
    "tf.test.gpu_device_name()"
   ]
  },
  {
   "cell_type": "code",
   "execution_count": null,
   "metadata": {
    "colab": {
     "base_uri": "https://localhost:8080/",
     "height": 34
    },
    "id": "5oglA59FL0wA",
    "outputId": "7de17215-054c-48e8-b111-cec9ed9c46e2"
   },
   "outputs": [],
   "source": [
    "#GPU count and name\n",
    "!nvidia-smi -L"
   ]
  },
  {
   "cell_type": "code",
   "execution_count": null,
   "metadata": {
    "colab": {
     "base_uri": "https://localhost:8080/",
     "height": 289
    },
    "id": "rYt8uY3aOaFT",
    "outputId": "9208b260-ca42-4ee4-d43d-9580f7e4e8fe"
   },
   "outputs": [],
   "source": [
    "#use this command to see GPU activity while doing Deep Learning tasks, for this command 'nvidia-smi' and for above one to work, go to 'Runtime > change runtime type > Hardware Accelerator > GPU'\n",
    "!nvidia-smi"
   ]
  },
  {
   "cell_type": "markdown",
   "metadata": {
    "id": "aM4jVTyFDFqx"
   },
   "source": [
    "# MNIST"
   ]
  },
  {
   "cell_type": "code",
   "execution_count": null,
   "metadata": {
    "colab": {
     "base_uri": "https://localhost:8080/",
     "height": 153
    },
    "id": "5ynJ91PONjLN",
    "outputId": "38f0635b-600a-43ae-b0d2-49678b8ed5c4"
   },
   "outputs": [],
   "source": [
    "# скачиваем данные\n",
    "# (x_train, y_train), (x_val, y_val) = tf.keras.datasets.fashion_mnist.load_data()\n",
    "(x_train, y_train), (x_val, y_val) = tf.keras.datasets.fashion_mnist.load_data()"
   ]
  },
  {
   "cell_type": "code",
   "execution_count": null,
   "metadata": {
    "colab": {
     "base_uri": "https://localhost:8080/",
     "height": 85
    },
    "id": "gFOePELMN8KM",
    "outputId": "5569e5a0-a80f-46f0-a790-704a1c5dde92"
   },
   "outputs": [],
   "source": [
    "# что за данные\n",
    "print(x_train.shape)\n",
    "print(x_val.shape)\n",
    "print (y_train[:10])\n",
    "print (y_val[:10])"
   ]
  },
  {
   "cell_type": "code",
   "execution_count": null,
   "metadata": {
    "colab": {
     "base_uri": "https://localhost:8080/",
     "height": 581
    },
    "id": "S_1_CbatN_Kt",
    "outputId": "94189319-ea07-4b9c-cd9c-33f2753e8a3c"
   },
   "outputs": [],
   "source": [
    "# нарисуем картинку\n",
    "x_train_image = np.tile(x_train[5, :, :].reshape((28, 28))[:, :, np.newaxis], (1, 1, 3))\n",
    "print(\"Пример кусочка картинки (пиксели со значениями от 0 до 255):\")\n",
    "plt.imshow(x_train_image[15:20, 5:10], cmap=\"Greys\")\n",
    "plt.show()\n",
    "print(\"Пример картинки:\")\n",
    "plt.imshow(x_train_image, cmap=\"Greys\")\n",
    "plt.show()\n",
    "print(\"y_train [shape %s] 10 примеров:\\n\" % (str(y_train.shape)), y_train[:10])"
   ]
  },
  {
   "cell_type": "code",
   "execution_count": null,
   "metadata": {
    "colab": {
     "base_uri": "https://localhost:8080/",
     "height": 589
    },
    "id": "N8lbRW0WBPvh",
    "outputId": "f754eb12-d318-4866-cfaf-17d0e84ac4e1"
   },
   "outputs": [],
   "source": [
    "# Посмотрим побольше примеров\n",
    "plt.figure(figsize=(10,10))\n",
    "for i in range(25):\n",
    "    plt.subplot(5,5,i+1)\n",
    "    plt.xticks([])\n",
    "    plt.yticks([])\n",
    "    plt.grid(False)\n",
    "    plt.imshow(x_train[i], cmap=\"Greys\")\n",
    "    plt.xlabel(y_train[i])\n",
    "plt.show()"
   ]
  },
  {
   "cell_type": "markdown",
   "metadata": {
    "id": "Zs9l8YcDCn77"
   },
   "source": [
    "# Data"
   ]
  },
  {
   "cell_type": "code",
   "execution_count": null,
   "metadata": {
    "colab": {
     "base_uri": "https://localhost:8080/",
     "height": 51
    },
    "id": "Gy5rjeOE1RGk",
    "outputId": "2e76ef57-eea9-494a-8937-034f833e410f"
   },
   "outputs": [],
   "source": [
    "# вытянем картинку в вектор размера 28*28=784 и будем использовать это как фичи!\n",
    "\n",
    "x_train_float = x_train.reshape(-1, 28*28).astype(float)\n",
    "print(x_train.shape, x_train_flat.shape)\n",
    "\n",
    "x_val_float = x_val.reshape(-1, 28*28).astype(float)\n",
    "print(x_val.shape, x_val_flat.shape)"
   ]
  },
  {
   "cell_type": "code",
   "execution_count": null,
   "metadata": {
    "id": "eiiClrqZC1ev"
   },
   "outputs": [],
   "source": [
    "# # центрируем и нормируем, так сети будет проще учиться\n",
    "# # x_train_float = x_train_flat.astype(np.float) / 255 - 0.5\n",
    "# # x_val_float = x_val_flat.astype(np.float) / 255 - 0.5\n",
    "\n",
    "# # по сути, это действия аналогичны нормализации через StandardScaler\n",
    "from sklearn.preprocessing import StandardScaler\n",
    "scaler = StandardScaler()\n",
    "x_train_flat = scaler.fit_transform(x_train_flat)\n",
    "x_val_flat = scaler.transform(x_val_flat)\n",
    "\n",
    "# # Но попробуйте пропустить нормирование и посмотрите что будет ;)\n",
    "# x_train_float = x_train_flat.astype(np.float)\n",
    "# x_val_float = x_val_flat.astype(np.float)"
   ]
  },
  {
   "cell_type": "code",
   "execution_count": null,
   "metadata": {
    "colab": {
     "base_uri": "https://localhost:8080/",
     "height": 119
    },
    "id": "lLz736fXE1mN",
    "outputId": "ad185c8c-6c76-488c-fb72-f65539430511"
   },
   "outputs": [],
   "source": [
    "# one-hot encode для ответов\n",
    "y_train_oh = keras.utils.to_categorical(y_train, 10)\n",
    "y_val_oh = keras.utils.to_categorical(y_val, 10)\n",
    "\n",
    "print(y_train_oh.shape)\n",
    "print(y_train_oh[:5], y_train[:5])"
   ]
  },
  {
   "cell_type": "markdown",
   "metadata": {
    "id": "n8jUd6IORgQh"
   },
   "source": [
    "# Собираем модель\n",
    "\n",
    "Самостоятельно постойте Multi layer Perceptron (MLP) классификатор (по аналогии с практическеской частью, но на новых данных)"
   ]
  },
  {
   "cell_type": "code",
   "execution_count": null,
   "metadata": {
    "id": "EaI0ev6BOI2r"
   },
   "outputs": [],
   "source": [
    "clear_session()"
   ]
  },
  {
   "cell_type": "code",
   "execution_count": null,
   "metadata": {
    "id": "yrIcMsFlHp4U"
   },
   "outputs": [],
   "source": [
    "# Тут ваш код Архитектуры сети\n",
    "# не забудьте 10 выходов с активацией softmax на выходном слое!\n",
    "# model = Sequential()\n",
    "# model.add(Dense(..., input_shape=(28*28,))) # первый скрытый слой\n",
    "# ...\n",
    "\n",
    "model = Sequential()\n",
    "model.add(Dense(units = 128, input_shape = (28 * 28,)))\n",
    "model.add(Dense(units = 128))\n",
    "\n",
    "model.add(Dense(units = 10, activation = 'softmax'))"
   ]
  },
  {
   "cell_type": "code",
   "execution_count": null,
   "metadata": {
    "id": "dumFu1lQHpm_"
   },
   "outputs": [],
   "source": [
    "# model.summary() используется для вывода сводки (summary) архитектуры модели нейронной сети. \n",
    "# Эта сводка предоставляет информацию о количестве параметров модели и форме выхода каждого слоя.\n",
    "model.summary()"
   ]
  },
  {
   "cell_type": "code",
   "execution_count": null,
   "metadata": {
    "id": "UNi21kLiJCys"
   },
   "outputs": [],
   "source": [
    "model.compile(\n",
    "    loss='categorical_crossentropy',  # минимизируем кросс-энтропию\n",
    "    optimizer='adam',  # так будет быстрее, позже узнаем что это :)\n",
    "    metrics=['accuracy']  # выводим процент правильных ответов\n",
    ")"
   ]
  },
  {
   "cell_type": "code",
   "execution_count": null,
   "metadata": {
    "id": "ADaeJAzURsEA"
   },
   "outputs": [],
   "source": [
    "history = model.fit(\n",
    "                    x_train_float, \n",
    "                    y_train_oh,\n",
    "                    batch_size=64,  # 64 объекта для подсчета градиента на каждом шаге\n",
    "                    epochs=10,  # 10 проходов по датасету\n",
    "                    validation_data=(x_val_float, y_val_oh)\n",
    "                    )"
   ]
  },
  {
   "cell_type": "code",
   "execution_count": null,
   "metadata": {
    "id": "z5UNQIsPRwVg"
   },
   "outputs": [],
   "source": [
    "# Plot training & validation accuracy values\n",
    "plt.style.use(['dark_background'])\n",
    "fig, ax = plt.subplots(figsize=(10, 5))\n",
    "plt.plot(history.history['accuracy'])\n",
    "plt.plot(history.history['val_accuracy'])\n",
    "plt.title('Model accuracy')\n",
    "plt.ylabel('Accuracy')\n",
    "plt.xlabel('Epoch')\n",
    "plt.legend(['Train', 'Test'], loc='upper left')\n",
    "plt.show()"
   ]
  },
  {
   "cell_type": "code",
   "execution_count": null,
   "metadata": {
    "id": "vxcBTgUhRylC"
   },
   "outputs": [],
   "source": [
    "# Plot training & validation loss values\n",
    "plt.style.use(['dark_background'])\n",
    "fig, ax = plt.subplots(figsize=(10, 5))\n",
    "plt.plot(history.history['loss'])\n",
    "plt.plot(history.history['val_loss'])\n",
    "plt.title('Model loss')\n",
    "plt.ylabel('Loss')\n",
    "plt.xlabel('Epoch')\n",
    "plt.legend(['Train', 'Test'], loc='upper left')\n",
    "plt.show()"
   ]
  },
  {
   "cell_type": "code",
   "execution_count": null,
   "metadata": {
    "id": "Om9B9fJhR2vj"
   },
   "outputs": [],
   "source": [
    "# Получение предсказанных вероятностей\n",
    "predicted_probs = model.predict(x_val_float)\n",
    "# Преобразование вероятностей в индексы классов\n",
    "predicted_classes = np.argmax(predicted_probs, axis=1)\n",
    "# Вычисление точности\n",
    "accuracy = accuracy_score(y_val, predicted_classes)\n",
    "print('Test Accuracy:', accuracy)\n"
   ]
  }
 ],
 "metadata": {
  "accelerator": "GPU",
  "colab": {
   "collapsed_sections": [],
   "name": "SF_mod_2_mnist_fashion_v1 .ipynb",
   "provenance": []
  },
  "kernelspec": {
   "display_name": "Python 3 (ipykernel)",
   "language": "python",
   "name": "python3"
  },
  "language_info": {
   "codemirror_mode": {
    "name": "ipython",
    "version": 3
   },
   "file_extension": ".py",
   "mimetype": "text/x-python",
   "name": "python",
   "nbconvert_exporter": "python",
   "pygments_lexer": "ipython3",
   "version": "3.10.12"
  }
 },
 "nbformat": 4,
 "nbformat_minor": 4
}
